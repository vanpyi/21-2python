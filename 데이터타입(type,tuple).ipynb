{
  "nbformat": 4,
  "nbformat_minor": 0,
  "metadata": {
    "colab": {
      "name": "데이터타입(type,tuple).ipynb",
      "provenance": [],
      "authorship_tag": "ABX9TyNkxEyUG1MiYWe/A8ZujzMN",
      "include_colab_link": true
    },
    "kernelspec": {
      "name": "python3",
      "display_name": "Python 3"
    },
    "language_info": {
      "name": "python"
    }
  },
  "cells": [
    {
      "cell_type": "markdown",
      "metadata": {
        "id": "view-in-github",
        "colab_type": "text"
      },
      "source": [
        "<a href=\"https://colab.research.google.com/github/vanpyi/21-2python/blob/main/%EB%8D%B0%EC%9D%B4%ED%84%B0%ED%83%80%EC%9E%85(type%2Ctuple).ipynb\" target=\"_parent\"><img src=\"https://colab.research.google.com/assets/colab-badge.svg\" alt=\"Open In Colab\"/></a>"
      ]
    },
    {
      "cell_type": "markdown",
      "metadata": {
        "id": "JzoKPLBEaA7y"
      },
      "source": [
        "## **학습목표**\n",
        "\n",
        "* 리스트(list)에 대해 이해하기\n",
        "* 튜플(tuple)에 대해 이해하기"
      ]
    },
    {
      "cell_type": "markdown",
      "metadata": {
        "id": "E7JCgxhHbNtZ"
      },
      "source": [
        "## **리스트와(list)와 튜플**\n",
        "- 여러 개의 값을 담을 수 있는 데이터 구조\n",
        "- list: 생성된 후에 변경이 가능\n",
        "- tuple: 생성된 후에 변경이 불가능"
      ]
    },
    {
      "cell_type": "code",
      "metadata": {
        "colab": {
          "base_uri": "https://localhost:8080/"
        },
        "id": "nGOG7PtzaNbB",
        "outputId": "abe76fb7-e82e-41dd-e053-ea081d6cc01a"
      },
      "source": [
        "#[]:리스트, ():튜플, {}:딕셔너리\n",
        "a = [1,2,3,4,5]\n",
        "print(a)"
      ],
      "execution_count": 1,
      "outputs": [
        {
          "output_type": "stream",
          "name": "stdout",
          "text": [
            "[1, 2, 3, 4, 5]\n"
          ]
        }
      ]
    },
    {
      "cell_type": "code",
      "metadata": {
        "colab": {
          "base_uri": "https://localhost:8080/"
        },
        "id": "n-IDnlrsccW4",
        "outputId": "f48deb3f-12e3-4a54-e450-1474dcaf7aa9"
      },
      "source": [
        "a = ['컴네','B', 1, '학년',[10,20]]\n",
        "print(a)"
      ],
      "execution_count": 2,
      "outputs": [
        {
          "output_type": "stream",
          "name": "stdout",
          "text": [
            "['컴네', 'B', 1, '학년', [10, 20]]\n"
          ]
        }
      ]
    },
    {
      "cell_type": "code",
      "metadata": {
        "colab": {
          "base_uri": "https://localhost:8080/"
        },
        "id": "heVQXD0ldUn4",
        "outputId": "4a35e39a-7969-4d2a-bc66-6871aa841f62"
      },
      "source": [
        "a = \"Hello comnet B!\"\n",
        "b = list(a) #list()함수로 리스트를 생성\n",
        "#리스트 함수는 다른 타입(문자열 등)을 리스트로 변환할 때 사용\n",
        "\n",
        "print(b)\n",
        "print(len(b))\n",
        "\n",
        "c = a.split()#공백을 기준으로 리스트를 생성\n",
        "c = a.split('l')#()안의 구분자를 기준으로 리스트를 생성\n",
        "print(c)\n",
        "print(d)"
      ],
      "execution_count": 6,
      "outputs": [
        {
          "output_type": "stream",
          "name": "stdout",
          "text": [
            "['H', 'e', 'l', 'l', 'o', ' ', 'c', 'o', 'm', 'n', 'e', 't', ' ', 'B', '!']\n",
            "15\n",
            "['Hello', 'comnet', 'B!']\n"
          ]
        }
      ]
    },
    {
      "cell_type": "markdown",
      "metadata": {
        "id": "zwBKDUREk7vf"
      },
      "source": [
        "## **리스트 인덱싱(indexing)**\n",
        "\n",
        "- [] 연산자를 이용해서 항목을 가져온다.\n",
        "- [i]: i번째 원소를 반환한다.\n",
        "- 만약, i가 음수면 마지막 원소에서 -1로 하여 가져온다."
      ]
    },
    {
      "cell_type": "code",
      "metadata": {
        "colab": {
          "base_uri": "https://localhost:8080/"
        },
        "id": "rgxJ0PoGeJ6o",
        "outputId": "ce35d892-8121-450f-fc37-6a54298f906c"
      },
      "source": [
        "a = [1,2,3,4,5,6,7,8,9,10]\n",
        "print(a[0], a[3], a[7], a[9])\n",
        "print(a[-1], a[-3], a[-10])\n",
        "#print(a[10], a[-11])\n"
      ],
      "execution_count": 8,
      "outputs": [
        {
          "output_type": "stream",
          "name": "stdout",
          "text": [
            "1 4 8 10\n",
            "10 8 1\n"
          ]
        }
      ]
    },
    {
      "cell_type": "code",
      "metadata": {
        "colab": {
          "base_uri": "https://localhost:8080/"
        },
        "id": "32WuevDolnp9",
        "outputId": "a232dd93-d8cc-4ebd-e080-acdc490179a9"
      },
      "source": [
        "a = [1,2,3,4,5,6,7,8,9,10]\n",
        "a[0] = 100\n",
        "a[-1] = 0\n",
        "print(a)\n",
        "\n",
        "a = \"Hello comnet B!\"\n",
        "b = a.replace('l','w')\n",
        "print(b)\n",
        "c = 'j'+a[1:]\n",
        "print(c)"
      ],
      "execution_count": 11,
      "outputs": [
        {
          "output_type": "stream",
          "name": "stdout",
          "text": [
            "[100, 2, 3, 4, 5, 6, 7, 8, 9, 0]\n",
            "Hewwo comnet B!\n",
            "jello comnet B!\n"
          ]
        }
      ]
    },
    {
      "cell_type": "markdown",
      "metadata": {
        "id": "0IF1d0ERojC2"
      },
      "source": [
        "## **리스트 slicing**\n",
        "- 리스트를 슬라이싱한 결과도 역시 리스트\n",
        "- 슬라이싱[시작:끝:증가값]\n"
      ]
    },
    {
      "cell_type": "code",
      "metadata": {
        "colab": {
          "base_uri": "https://localhost:8080/"
        },
        "id": "PLi6BRXXm2fu",
        "outputId": "5ce8582c-2408-47ed-8a8e-a151beec9b42"
      },
      "source": [
        "a = [1,2,3,4,5,6,7,8,9,10]\n",
        "print(a[3:7])\n",
        "print(a[:7])\n",
        "print(a[3:])\n",
        "print(a[:])\n",
        "print(a[::2])\n",
        "print(a[1:9:2])"
      ],
      "execution_count": 13,
      "outputs": [
        {
          "output_type": "stream",
          "name": "stdout",
          "text": [
            "[4, 5, 6, 7]\n",
            "[1, 2, 3, 4, 5, 6, 7]\n",
            "[4, 5, 6, 7, 8, 9, 10]\n",
            "[1, 2, 3, 4, 5, 6, 7, 8, 9, 10]\n",
            "[1, 3, 5, 7, 9]\n",
            "[2, 4, 6, 8]\n"
          ]
        }
      ]
    },
    {
      "cell_type": "markdown",
      "metadata": {
        "id": "iXo_ATdtq_L9"
      },
      "source": [
        "## **리스트 멤버 함수**\n",
        "- 생성된 리스트에 동작하는 함수\n",
        "- append() : 리스트 끝에다가 항목을 추가\n",
        "- extend() : 리스트를 연장\n",
        "- insert() : 원하는 위치에 추가 가능 (위치,아이템)"
      ]
    },
    {
      "cell_type": "code",
      "metadata": {
        "colab": {
          "base_uri": "https://localhost:8080/"
        },
        "id": "pNx6FXrkoy-U",
        "outputId": "06b88f2b-3e61-4b5f-e353-28115f093b37"
      },
      "source": [
        "a = [1,2,3,4,5]\n",
        "a.append(10)\n",
        "print(a)"
      ],
      "execution_count": 15,
      "outputs": [
        {
          "output_type": "stream",
          "name": "stdout",
          "text": [
            "[1, 2, 3, 4, 5, 10]\n"
          ]
        }
      ]
    },
    {
      "cell_type": "code",
      "metadata": {
        "colab": {
          "base_uri": "https://localhost:8080/"
        },
        "id": "2NbrjuWdrgcz",
        "outputId": "29730354-97a2-4493-eddb-5995b4aa0a1b"
      },
      "source": [
        "b = [11,12,13]\n",
        "a.extend(b)\n",
        "print(a)"
      ],
      "execution_count": 18,
      "outputs": [
        {
          "output_type": "stream",
          "name": "stdout",
          "text": [
            "[1, 2, 3, 4, 5, 10, 11, 12, 13, 11, 12, 13, 11, 12, 13]\n"
          ]
        }
      ]
    },
    {
      "cell_type": "code",
      "metadata": {
        "colab": {
          "base_uri": "https://localhost:8080/"
        },
        "id": "gIFp1OmSsKoG",
        "outputId": "9c166004-4502-4852-bd34-1c860fb82938"
      },
      "source": [
        "a = [1,2,3,4,5]\n",
        "a.insert(0,7)\n",
        "a.insert(1,6)\n",
        "print(a)"
      ],
      "execution_count": 20,
      "outputs": [
        {
          "output_type": "stream",
          "name": "stdout",
          "text": [
            "[7, 6, 1, 2, 3, 4, 5]\n"
          ]
        }
      ]
    },
    {
      "cell_type": "markdown",
      "metadata": {
        "id": "CfQmQQhFy745"
      },
      "source": [
        "- remove() : 값으로 항목을 삭제\n",
        "- pop() : 지우고자 하는 인덱스의 아이템을 반환 후 삭제\n",
        "- index() : 찾고자하는 값의 인덱스 값을 반환"
      ]
    },
    {
      "cell_type": "code",
      "metadata": {
        "colab": {
          "base_uri": "https://localhost:8080/"
        },
        "id": "kQE8wppAssNs",
        "outputId": "df392267-3af4-4919-9ac2-9b37cd040f11"
      },
      "source": [
        "a = [10,20,30,40,50]\n",
        "a.remove(10)\n",
        "print(a)"
      ],
      "execution_count": 21,
      "outputs": [
        {
          "output_type": "stream",
          "name": "stdout",
          "text": [
            "[20, 30, 40, 50]\n"
          ]
        }
      ]
    },
    {
      "cell_type": "code",
      "metadata": {
        "colab": {
          "base_uri": "https://localhost:8080/"
        },
        "id": "QJPBdjoEzkSa",
        "outputId": "83145ec4-2779-4669-dd68-ec778fc66aa6"
      },
      "source": [
        "a = [10,20,30,40,50]\n",
        "b = a.pop(0)\n",
        "print(b)\n",
        "print(a)"
      ],
      "execution_count": 22,
      "outputs": [
        {
          "output_type": "stream",
          "name": "stdout",
          "text": [
            "10\n",
            "[20, 30, 40, 50]\n"
          ]
        }
      ]
    },
    {
      "cell_type": "code",
      "metadata": {
        "colab": {
          "base_uri": "https://localhost:8080/"
        },
        "id": "gQlb1lJlzv4h",
        "outputId": "6227a9a4-0fb4-4741-bd2f-ed0a0f538749"
      },
      "source": [
        "a = [10,20,30,40,50]\n",
        "print(a.index(40))\n",
        "\n",
        "b = \"Hello!\"\n",
        "print(b.index('e'))"
      ],
      "execution_count": 25,
      "outputs": [
        {
          "output_type": "stream",
          "name": "stdout",
          "text": [
            "3\n",
            "1\n"
          ]
        }
      ]
    },
    {
      "cell_type": "markdown",
      "metadata": {
        "id": "3aNfiFKf0SJa"
      },
      "source": [
        "## **in 키워드**\n",
        "- 리스트에 해당 값이 존재하는지\n",
        "- True, false 중 한가지로 반환\n",
        "\n",
        "- 값 in [list]"
      ]
    },
    {
      "cell_type": "code",
      "metadata": {
        "colab": {
          "base_uri": "https://localhost:8080/"
        },
        "id": "B_F-GNcZz5uJ",
        "outputId": "d04575b7-7af2-427d-d148-7512dd38809f"
      },
      "source": [
        "a = [1,2,3,4,5,6,7,8]\n",
        "b = 5\n",
        "c = 10\n",
        "print(b in a)\n",
        "print(c in a)"
      ],
      "execution_count": 29,
      "outputs": [
        {
          "output_type": "stream",
          "name": "stdout",
          "text": [
            "True\n",
            "False\n"
          ]
        }
      ]
    },
    {
      "cell_type": "markdown",
      "metadata": {
        "id": "Jw7nAUGS2BLB"
      },
      "source": [
        "## **list 정렬**\n",
        "- sort() : 리스트 자체를 내부적으로 정렬\n",
        "- sorted() : 정렬된 리스트의 복사본을 저장"
      ]
    },
    {
      "cell_type": "code",
      "metadata": {
        "colab": {
          "base_uri": "https://localhost:8080/"
        },
        "id": "nVAVfmHQ0yTK",
        "outputId": "78b98bdb-efc7-408c-8cde-591c8308be83"
      },
      "source": [
        "a = [12,41,4653,46,257,4,7,47,83,523]\n",
        "b = sorted(a)\n",
        "print(a)\n",
        "print(b)\n",
        "\n",
        "#a.sort()\n",
        "#print(a)\n",
        "#a.sort(reverse=True)\n",
        "#print(a)"
      ],
      "execution_count": 35,
      "outputs": [
        {
          "output_type": "stream",
          "name": "stdout",
          "text": [
            "[12, 41, 4653, 46, 257, 4, 7, 47, 83, 523]\n",
            "[4, 7, 12, 41, 46, 47, 83, 257, 523, 4653]\n"
          ]
        }
      ]
    },
    {
      "cell_type": "markdown",
      "metadata": {
        "id": "Y-VmdNR83HXJ"
      },
      "source": [
        "## **튜플(Tuple)**\n",
        "- 리스트와 같이 여러개의 값을 갖는 데이터 컬렉션 타입\n",
        "- 생성된 후에 변경이 불가능"
      ]
    },
    {
      "cell_type": "code",
      "metadata": {
        "colab": {
          "base_uri": "https://localhost:8080/"
        },
        "id": "HG44sey-3T8s",
        "outputId": "78e24aa3-cc07-43f6-a1bc-818ac029f717"
      },
      "source": [
        "a = [1,2,3]\n",
        "b = (1,2,3)\n",
        "\n",
        "print(type(a))\n",
        "print(type(b))\n",
        "\n",
        "a[0] =100\n",
        "print(a)\n",
        "#b[0] =100"
      ],
      "execution_count": 40,
      "outputs": [
        {
          "output_type": "stream",
          "name": "stdout",
          "text": [
            "<class 'list'>\n",
            "<class 'tuple'>\n",
            "[100, 2, 3]\n"
          ]
        }
      ]
    },
    {
      "cell_type": "code",
      "metadata": {
        "colab": {
          "base_uri": "https://localhost:8080/"
        },
        "id": "oxwwjb2-2NH4",
        "outputId": "a71321fb-6d24-4cee-864e-46522edb6bfd"
      },
      "source": [
        "a,b,c,d = 10 ,20, 30, 40\n",
        "print(a,b,c,d)"
      ],
      "execution_count": 41,
      "outputs": [
        {
          "output_type": "stream",
          "name": "stdout",
          "text": [
            "10 20 30 40\n"
          ]
        }
      ]
    },
    {
      "cell_type": "code",
      "metadata": {
        "colab": {
          "base_uri": "https://localhost:8080/"
        },
        "id": "VV5FqSZ64FU-",
        "outputId": "eac01352-9d68-4dd1-cafc-a3a27c75618d"
      },
      "source": [
        "a = 5\n",
        "b = 4\n",
        "\n",
        "#문제! a.b 값을 교환하세요!\n",
        "\n",
        "a= 4\n",
        "b= 5\n",
        "print(a)\n",
        "print(b)\n",
        "a,b = b,a\n",
        "print(a)\n",
        "print(b)"
      ],
      "execution_count": 44,
      "outputs": [
        {
          "output_type": "stream",
          "name": "stdout",
          "text": [
            "4\n",
            "5\n",
            "5\n",
            "4\n"
          ]
        }
      ]
    },
    {
      "cell_type": "code",
      "metadata": {
        "id": "eph3YD4P4rcJ"
      },
      "source": [
        ""
      ],
      "execution_count": null,
      "outputs": []
    }
  ]
}