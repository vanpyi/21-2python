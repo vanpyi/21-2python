{
  "nbformat": 4,
  "nbformat_minor": 0,
  "metadata": {
    "colab": {
      "name": "211020_함수.ipynb",
      "provenance": [],
      "authorship_tag": "ABX9TyMwAGK2zm0Bywe0C8cdAwfh",
      "include_colab_link": true
    },
    "kernelspec": {
      "name": "python3",
      "display_name": "Python 3"
    },
    "language_info": {
      "name": "python"
    }
  },
  "cells": [
    {
      "cell_type": "markdown",
      "metadata": {
        "id": "view-in-github",
        "colab_type": "text"
      },
      "source": [
        "<a href=\"https://colab.research.google.com/github/vanpyi/21-2python/blob/main/211020_%ED%95%A8%EC%88%98.ipynb\" target=\"_parent\"><img src=\"https://colab.research.google.com/assets/colab-badge.svg\" alt=\"Open In Colab\"/></a>"
      ]
    },
    {
      "cell_type": "markdown",
      "metadata": {
        "id": "A3oy-_JS81or"
      },
      "source": [
        "### **학습 목표**\n",
        "1. 함수의 이해\n",
        "2. 함수 구현 및 사용 숙지\n",
        "- 표준함수(내장함수)\n",
        "- 사용자 정의 함수"
      ]
    },
    {
      "cell_type": "markdown",
      "metadata": {
        "id": "6uXdC2of9H2Z"
      },
      "source": [
        "### **함수?**\n",
        "- 예) range같은 함수가 있다.\n",
        "- range() #괄호 안에 입력값을 주어서 수를 반환\n",
        "- range(3,9) -> [3,4,5,6,7,8] \n",
        "\n",
        "- 이미 구현된 함수: 내장함수(bulit-in function)"
      ]
    },
    {
      "cell_type": "markdown",
      "metadata": {
        "id": "L9RyK2lGLV3o"
      },
      "source": [
        "### **수학 관련 내장함수**\n",
        "1. abs()\n",
        "2. 진수 변환\n",
        "- bin(): 10진수를 2진수로\n",
        "- oct(): 10진수를 8진수로\n",
        "- hex(): 10진수를 16진수로\n",
        "3. 연산\n",
        "- max(): 최대값\n",
        "- min(): 최소값\n",
        "- sun(): 합계\n",
        "- pow(): 거듭제곱\n",
        "4. round(): 반올림"
      ]
    },
    {
      "cell_type": "code",
      "metadata": {
        "colab": {
          "base_uri": "https://localhost:8080/"
        },
        "id": "wwVZ9rmX85Ui",
        "outputId": "35196b4b-caad-449a-e1b2-e221be6c11fd"
      },
      "source": [
        "print(-10,\"의 절댓값: \", abs(-10))\n",
        "print(128,\"의 2잔수: \", bin(128))\n",
        "print(17,\"의 8진수: \", oct(17))\n",
        "print(30,\"의 16진수: \", hex(30))"
      ],
      "execution_count": 2,
      "outputs": [
        {
          "output_type": "stream",
          "name": "stdout",
          "text": [
            "-10 의 절댓값:  10\n",
            "128 의 2잔수:  0b10000000\n",
            "17 의 8진수:  0o21\n",
            "30 의 16진수:  0x1e\n"
          ]
        }
      ]
    },
    {
      "cell_type": "code",
      "metadata": {
        "colab": {
          "base_uri": "https://localhost:8080/"
        },
        "id": "-1jMi1r4L38A",
        "outputId": "d664d47d-f046-4adf-fe3b-7fbdce080b25"
      },
      "source": [
        "numbers = [3,5,6,2,3]\n",
        "alpha = ['a','b','c','d','e']\n",
        "print(\"max:\", max(numbers))\n",
        "print(\"min:\", min(numbers))\n",
        "print(\"max:\", max(alpha))\n",
        "print(\"min:\", min(alpha))\n",
        "print(\"sum:\", sum(numbers))\n",
        "print(\"pow(3의 4승):\",pow(3,4))\n",
        "print(\"3.141592의 소수점 2의 자리 반올림: \",round(3.141592,2))"
      ],
      "execution_count": 5,
      "outputs": [
        {
          "output_type": "stream",
          "name": "stdout",
          "text": [
            "max: 6\n",
            "min: 2\n",
            "max: e\n",
            "min: a\n",
            "sum: 19\n",
            "pow(3의 4승): 81\n",
            "3.141592의 소수점 2의 자리 반올림:  3.14\n"
          ]
        }
      ]
    },
    {
      "cell_type": "markdown",
      "metadata": {
        "id": "qX_N0YMzWtB8"
      },
      "source": [
        "### **문자열 관련 내장함수**\n",
        "- input(): ()안에 매개변수 값을 출력한 후에 입력을 받는 함수\n",
        "- format(): 일부 내용을 치환하여 의도한 형식의 문자열을 출력하는 함수"
      ]
    },
    {
      "cell_type": "code",
      "metadata": {
        "colab": {
          "base_uri": "https://localhost:8080/"
        },
        "id": "6Nf59frCWq0E",
        "outputId": "8b64f1d6-4fdb-4e1e-9fec-ca1bee2c5516"
      },
      "source": [
        "id = input(\"아이디를 입력하세요: \")\n",
        "password = input(\"\n",
        "비밀번호를 입력하세요: \")\n",
        "\n",
        "print(\"()님! 가입을 환영합니다!\".format(id))"
      ],
      "execution_count": 7,
      "outputs": [
        {
          "output_type": "stream",
          "name": "stdout",
          "text": [
            "아이디를 입력하세요: 1234\n",
            "비밀번호를 입력하세요: 12345\n",
            "()님! 가입을 환영합니다!\n"
          ]
        }
      ]
    },
    {
      "cell_type": "code",
      "metadata": {
        "id": "1I-8JKjBXGDk"
      },
      "source": [
        ""
      ],
      "execution_count": null,
      "outputs": []
    }
  ]
}