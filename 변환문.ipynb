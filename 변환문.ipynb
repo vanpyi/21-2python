{
  "nbformat": 4,
  "nbformat_minor": 0,
  "metadata": {
    "colab": {
      "name": "Untitled2.ipynb",
      "provenance": [],
      "authorship_tag": "ABX9TyMVsRihwsY+jbg8cPMFSCAD",
      "include_colab_link": true
    },
    "kernelspec": {
      "name": "python3",
      "display_name": "Python 3"
    },
    "language_info": {
      "name": "python"
    }
  },
  "cells": [
    {
      "cell_type": "markdown",
      "metadata": {
        "id": "view-in-github",
        "colab_type": "text"
      },
      "source": [
        "<a href=\"https://colab.research.google.com/github/vanpyi/21-2python/blob/main/%EB%B3%80%ED%99%98%EB%AC%B8.ipynb\" target=\"_parent\"><img src=\"https://colab.research.google.com/assets/colab-badge.svg\" alt=\"Open In Colab\"/></a>"
      ]
    },
    {
      "cell_type": "markdown",
      "metadata": {
        "id": "HYUEHy8mqkY7"
      },
      "source": [
        "## 학습목표\n",
        "* 반복문의 이해 및 활용\n",
        "* range() 함수를 이해"
      ]
    },
    {
      "cell_type": "markdown",
      "metadata": {
        "id": "2Hb3LJ_sqwHX"
      },
      "source": [
        "## **for 반복문**\n",
        "* 리스트, 문자열 등을 순회하면서 값을 처리할 때 사용\n",
        "* i 는 매번 문장을 수항할 때마다 a 리스트 안의 값으로 순차적으로 변경된다.\n",
        "* 모든 a 안의 값이 수해오디면 for문의 블록은 종료된다.\n"
      ]
    },
    {
      "cell_type": "code",
      "metadata": {
        "id": "e3Qjd0ZgqvJm"
      },
      "source": [
        "a = [1,2,3,4,5] #리스트\n",
        "\n",
        "for i in a :\n",
        "  print(i)\n"
      ],
      "execution_count": null,
      "outputs": []
    },
    {
      "cell_type": "code",
      "metadata": {
        "colab": {
          "base_uri": "https://localhost:8080/"
        },
        "id": "ymygLrZz0Laf",
        "outputId": "0035d1ea-2903-4483-d577-6bd50bff59de"
      },
      "source": [
        "#문자열에서 아이템을 출력해보기\n",
        "\n",
        "for x in \"Hello ComNet B!\" :\n",
        " print(x)"
      ],
      "execution_count": 2,
      "outputs": [
        {
          "output_type": "stream",
          "name": "stdout",
          "text": [
            "H\n",
            "e\n",
            "l\n",
            "l\n",
            "o\n",
            " \n",
            "C\n",
            "o\n",
            "m\n",
            "N\n",
            "e\n",
            "t\n",
            " \n",
            "B\n",
            "!\n"
          ]
        }
      ]
    },
    {
      "cell_type": "code",
      "metadata": {
        "colab": {
          "base_uri": "https://localhost:8080/",
          "height": 136
        },
        "id": "mzf3k7s80UJm",
        "outputId": "b16c262f-0be2-42bc-c73a-0f15da414894"
      },
      "source": [
        "# a 리스트 안의 수가 짝수면 그 수를 2로 나누고\n",
        "# 홀수일 경우 2를 곱한 수를 출력하시오.\n",
        "\n",
        "a = [1,10,6,29,28,7] #작수와 홀수의 리스트\n",
        "\n",
        "for i in a :\n",
        "  if i % 2 == 0 : #짝수\n",
        "  print(i//2)\n",
        "else:\n",
        "  print(i*2)"
      ],
      "execution_count": 5,
      "outputs": [
        {
          "output_type": "error",
          "ename": "IndentationError",
          "evalue": "ignored",
          "traceback": [
            "\u001b[0;36m  File \u001b[0;32m\"<ipython-input-5-cafc719170a3>\"\u001b[0;36m, line \u001b[0;32m8\u001b[0m\n\u001b[0;31m    print(1//2)\u001b[0m\n\u001b[0m        ^\u001b[0m\n\u001b[0;31mIndentationError\u001b[0m\u001b[0;31m:\u001b[0m expected an indented block\n"
          ]
        }
      ]
    },
    {
      "cell_type": "markdown",
      "metadata": {
        "id": "TaGsY4u827hf"
      },
      "source": [
        "## break\n",
        " * 특정 조건을 만족할 때 그 블록을 빠져나오기 위해서 사용"
      ]
    },
    {
      "cell_type": "code",
      "metadata": {
        "id": "Y7_7UQ0P20Uh"
      },
      "source": [
        "a = [1,10,6,29,28,7]\n",
        "\n",
        "for i in a :\n",
        "  if i > 20:\n",
        "    print(i)\n",
        "    break"
      ],
      "execution_count": null,
      "outputs": []
    },
    {
      "cell_type": "code",
      "metadata": {
        "colab": {
          "base_uri": "https://localhost:8080/"
        },
        "id": "RVcBX_4h7Zi2",
        "outputId": "c767bd67-47f8-49aa-fbea-1ad8ec9243f9"
      },
      "source": [
        "t = int(input())\n",
        "\n",
        "for i in range(t):\n",
        "  a, b = input().split()\n",
        "  a = int(a)\n",
        "  b = int(b)\n",
        "  print(a+b)"
      ],
      "execution_count": 8,
      "outputs": [
        {
          "output_type": "stream",
          "name": "stdout",
          "text": [
            "2\n",
            "1 1\n",
            "2\n",
            "2 2\n",
            "4\n"
          ]
        }
      ]
    },
    {
      "cell_type": "markdown",
      "metadata": {
        "id": "kSKRiUpxDLxt"
      },
      "source": [
        "## countinue\n",
        "* 해당 아이템을 건너 뛰고 싶을 때 사용"
      ]
    },
    {
      "cell_type": "code",
      "metadata": {
        "colab": {
          "base_uri": "https://localhost:8080/"
        },
        "id": "6k7i68V3DLZu",
        "outputId": "a40f9f29-0edf-4b7d-d04d-f3306cf19087"
      },
      "source": [
        "a = [3, 9, 7, 29, 18]\n",
        "\n",
        "for i in a :\n",
        "  if i > 5 and i < 20 :\n",
        "    continue\n",
        "  print(i)"
      ],
      "execution_count": 9,
      "outputs": [
        {
          "output_type": "stream",
          "name": "stdout",
          "text": [
            "3\n",
            "29\n"
          ]
        }
      ]
    },
    {
      "cell_type": "markdown",
      "metadata": {
        "id": "XYtII6w0Eeml"
      },
      "source": [
        "### range 함수\n",
        "* 리스트에 혹은 튜플을 쉽게 만들 수 있는 내장 함수\n",
        "* 주어진 값에 따라 다양한 결과를 반환\n",
        "\n",
        "```python\n",
        "range(10)              -> [0,1,2,3,4,5,6,7,8,9]\n",
        "range(2, 10)           -> [2,3,4,5,6,7,8,9]\n",
        "range(2, 10, 3)        -> [2,5,8]\n",
        "```\n",
        "\n",
        "\n"
      ]
    },
    {
      "cell_type": "code",
      "metadata": {
        "colab": {
          "base_uri": "https://localhost:8080/"
        },
        "id": "cY2YLEGS7peX",
        "outputId": "b8be42c0-04db-47dd-bdba-bee5b5b7e96f"
      },
      "source": [
        "print(list(range(10)))\n",
        "print(list(range(2, 10)))\n",
        "print(list(range(2, 10, 3)))"
      ],
      "execution_count": 10,
      "outputs": [
        {
          "output_type": "stream",
          "name": "stdout",
          "text": [
            "[0, 1, 2, 3, 4, 5, 6, 7, 8, 9]\n",
            "[2, 3, 4, 5, 6, 7, 8, 9]\n",
            "[2, 5, 8]\n"
          ]
        }
      ]
    },
    {
      "cell_type": "markdown",
      "metadata": {
        "id": "aNgPk0hgF2fM"
      },
      "source": [
        "## 구구단 출력하기\n",
        "* 2단부터 9단까지\n",
        "* 각 단은 1부터 9까지 곱하도록\n",
        "\n",
        "> [2단]\n",
        "> 2 * 1 = 2\n",
        "> 2 * 2 = 4\n",
        "> 2 * 3 = 6\n",
        "> 2 * 4 = 8\n",
        "> 2 * 5 = 10\n",
        "> 2 * 6 = 12\n",
        "> 2 * 7 = 14\n",
        "> 2 * 8 = 16\n",
        "> 2 * 9 = 18"
      ]
    },
    {
      "cell_type": "code",
      "metadata": {
        "colab": {
          "base_uri": "https://localhost:8080/",
          "height": 280
        },
        "id": "8M13dCTuHoCd",
        "outputId": "da7f4785-24f1-42d4-dbf8-3feaa1512b3f"
      },
      "source": [
        "print(\"구구단 출력하기\\n\")\n",
        "for i in range(2,10):\n",
        "  print(\"[\",j,\"단]\")\n",
        "  for i in range(1, 10) :\n",
        "    print(j, '*', i , '=', j*i)\n",
        "  print()"
      ],
      "execution_count": 13,
      "outputs": [
        {
          "output_type": "stream",
          "name": "stdout",
          "text": [
            "구구단 출력하기\n",
            "\n"
          ]
        },
        {
          "output_type": "error",
          "ename": "NameError",
          "evalue": "ignored",
          "traceback": [
            "\u001b[0;31m---------------------------------------------------------------------------\u001b[0m",
            "\u001b[0;31mNameError\u001b[0m                                 Traceback (most recent call last)",
            "\u001b[0;32m<ipython-input-13-f35a7773de6f>\u001b[0m in \u001b[0;36m<module>\u001b[0;34m()\u001b[0m\n\u001b[1;32m      1\u001b[0m \u001b[0mprint\u001b[0m\u001b[0;34m(\u001b[0m\u001b[0;34m\"구구단 출력하기\\n\"\u001b[0m\u001b[0;34m)\u001b[0m\u001b[0;34m\u001b[0m\u001b[0;34m\u001b[0m\u001b[0m\n\u001b[1;32m      2\u001b[0m \u001b[0;32mfor\u001b[0m \u001b[0mi\u001b[0m \u001b[0;32min\u001b[0m \u001b[0mrange\u001b[0m\u001b[0;34m(\u001b[0m\u001b[0;36m2\u001b[0m\u001b[0;34m,\u001b[0m\u001b[0;36m10\u001b[0m\u001b[0;34m)\u001b[0m\u001b[0;34m:\u001b[0m\u001b[0;34m\u001b[0m\u001b[0;34m\u001b[0m\u001b[0m\n\u001b[0;32m----> 3\u001b[0;31m   \u001b[0mprint\u001b[0m\u001b[0;34m(\u001b[0m\u001b[0;34m\"[\"\u001b[0m\u001b[0;34m,\u001b[0m\u001b[0mj\u001b[0m\u001b[0;34m,\u001b[0m\u001b[0;34m\"단]\"\u001b[0m\u001b[0;34m)\u001b[0m\u001b[0;34m\u001b[0m\u001b[0;34m\u001b[0m\u001b[0m\n\u001b[0m\u001b[1;32m      4\u001b[0m   \u001b[0;32mfor\u001b[0m \u001b[0mi\u001b[0m \u001b[0;32min\u001b[0m \u001b[0mrange\u001b[0m\u001b[0;34m(\u001b[0m\u001b[0;36m1\u001b[0m\u001b[0;34m,\u001b[0m \u001b[0;36m10\u001b[0m\u001b[0;34m)\u001b[0m \u001b[0;34m:\u001b[0m\u001b[0;34m\u001b[0m\u001b[0;34m\u001b[0m\u001b[0m\n\u001b[1;32m      5\u001b[0m     \u001b[0mprint\u001b[0m\u001b[0;34m(\u001b[0m\u001b[0mj\u001b[0m\u001b[0;34m,\u001b[0m \u001b[0;34m'*'\u001b[0m\u001b[0;34m,\u001b[0m \u001b[0mi\u001b[0m \u001b[0;34m,\u001b[0m \u001b[0;34m'='\u001b[0m\u001b[0;34m,\u001b[0m \u001b[0mj\u001b[0m\u001b[0;34m*\u001b[0m\u001b[0mi\u001b[0m\u001b[0;34m)\u001b[0m\u001b[0;34m\u001b[0m\u001b[0;34m\u001b[0m\u001b[0m\n",
            "\u001b[0;31mNameError\u001b[0m: name 'j' is not defined"
          ]
        }
      ]
    },
    {
      "cell_type": "code",
      "metadata": {
        "id": "GWYfWBFHJF6L"
      },
      "source": [
        ""
      ],
      "execution_count": null,
      "outputs": []
    }
  ]
}