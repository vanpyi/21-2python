{
  "nbformat": 4,
  "nbformat_minor": 0,
  "metadata": {
    "colab": {
      "name": "Untitled5.ipynb",
      "provenance": [],
      "authorship_tag": "ABX9TyN4aQCc72NzOxs/3t3tTjMf",
      "include_colab_link": true
    },
    "kernelspec": {
      "name": "python3",
      "display_name": "Python 3"
    },
    "language_info": {
      "name": "python"
    }
  },
  "cells": [
    {
      "cell_type": "markdown",
      "metadata": {
        "id": "view-in-github",
        "colab_type": "text"
      },
      "source": [
        "<a href=\"https://colab.research.google.com/github/vanpyi/21-2python/blob/main/Untitled5.ipynb\" target=\"_parent\"><img src=\"https://colab.research.google.com/assets/colab-badge.svg\" alt=\"Open In Colab\"/></a>"
      ]
    },
    {
      "cell_type": "code",
      "metadata": {
        "colab": {
          "base_uri": "https://localhost:8080/"
        },
        "id": "kP_XkSK8vNbp",
        "outputId": "548cfbc7-d279-48db-a00a-5966ad926982"
      },
      "source": [
        "a = {'Korea':'Seoul',\n",
        "     'Canada':'Ottawa',\n",
        "     'USA':'Washington'}\n",
        "b = {0:1, 1:6, 7:9, 8:10}\n",
        "\n",
        "print(a)\n",
        "print(a['Korea'])\n",
        "\n",
        "print(b[1])\n",
        "print(b[0])"
      ],
      "execution_count": 1,
      "outputs": [
        {
          "output_type": "stream",
          "name": "stdout",
          "text": [
            "{'Korea': 'Seoul', 'Canada': 'Ottawa', 'USA': 'Washington'}\n",
            "Seoul\n",
            "6\n",
            "1\n"
          ]
        }
      ]
    },
    {
      "cell_type": "markdown",
      "metadata": {
        "id": "oRMRn8PywQ1h"
      },
      "source": [
        "## **항목 추가 및 변경**\n",
        "- 기존에 키가 존재하면, 새로운 값으로 업데이트\n",
        "- 기존의 키가 없다면, 새로운 키값으로 생성"
      ]
    },
    {
      "cell_type": "code",
      "metadata": {
        "colab": {
          "base_uri": "https://localhost:8080/"
        },
        "id": "MV-GTE_5vxj4",
        "outputId": "41f8ca00-65e9-4a16-9474-e77d8155871a"
      },
      "source": [
        "a['japan'] = 'tokyo'\n",
        "print(a)\n",
        "a['japan'] = 'osaka'\n",
        "print(a)\n",
        "a['china'] = 'beijng'\n",
        "print(a)"
      ],
      "execution_count": 2,
      "outputs": [
        {
          "output_type": "stream",
          "name": "stdout",
          "text": [
            "{'Korea': 'Seoul', 'Canada': 'Ottawa', 'USA': 'Washington', 'japan': 'tokyo'}\n",
            "{'Korea': 'Seoul', 'Canada': 'Ottawa', 'USA': 'Washington', 'japan': 'osaka'}\n",
            "{'Korea': 'Seoul', 'Canada': 'Ottawa', 'USA': 'Washington', 'japan': 'osaka', 'china': 'beijng'}\n"
          ]
        }
      ]
    },
    {
      "cell_type": "markdown",
      "metadata": {
        "id": "dhdwPDIRxHYI"
      },
      "source": [
        "- update()\n",
        " - 두 딕셔너리를 병합\n",
        " - 겹치는 키가 있다면, 전달되는 값이 업데이트된다.\n"
      ]
    },
    {
      "cell_type": "code",
      "metadata": {
        "colab": {
          "base_uri": "https://localhost:8080/"
        },
        "id": "G95uBH2Bwtx_",
        "outputId": "54279e29-cc56-4d78-e586-8bd96ecce85e"
      },
      "source": [
        "a = {'a':'apple', 'b':'banana', 'c':'car'}\n",
        "b ={'b':'bus', 'c':'caramel', 'd':'dynamite', 'e':'education'}\n",
        "\n",
        "a.update(b) #a와 b병합\n",
        "print(a)"
      ],
      "execution_count": 3,
      "outputs": [
        {
          "output_type": "stream",
          "name": "stdout",
          "text": [
            "{'a': 'apple', 'b': 'bus', 'c': 'caramel', 'd': 'dynamite', 'e': 'education'}\n"
          ]
        }
      ]
    },
    {
      "cell_type": "markdown",
      "metadata": {
        "id": "6CPiLXK95bpE"
      },
      "source": [
        "## **key 삭제**\n",
        "- del 키워드\n",
        "- pop 함수 이용"
      ]
    },
    {
      "cell_type": "code",
      "metadata": {
        "colab": {
          "base_uri": "https://localhost:8080/"
        },
        "id": "eLQTciFIycSn",
        "outputId": "15e4e9ab-449d-4408-83c0-63b64895d11c"
      },
      "source": [
        "a = {'a':1, 'b':2, 'c':3}\n",
        "print(a)\n",
        "\n",
        "del a['a']\n",
        "print(a)\n",
        "\n",
        "c = a.pop('b')\n",
        "print(c)"
      ],
      "execution_count": 6,
      "outputs": [
        {
          "output_type": "stream",
          "name": "stdout",
          "text": [
            "{'a': 1, 'b': 2, 'c': 3}\n",
            "{'b': 2, 'c': 3}\n",
            "2\n"
          ]
        }
      ]
    },
    {
      "cell_type": "markdown",
      "metadata": {
        "id": "T_M4qjLC9cx8"
      },
      "source": [
        "## **Clear**\n",
        "- 딕셔너리 값을 모두 초기화"
      ]
    },
    {
      "cell_type": "code",
      "metadata": {
        "colab": {
          "base_uri": "https://localhost:8080/"
        },
        "id": "RmvgJj7O5qrE",
        "outputId": "e42d86a0-65f6-4881-fbf7-847585942c84"
      },
      "source": [
        "a = {'a':1, 'b':2, 'c':3}\n",
        "a['add'] = 4\n",
        "print(a)\n",
        "a.clear()\n",
        "print(a)"
      ],
      "execution_count": 8,
      "outputs": [
        {
          "output_type": "stream",
          "name": "stdout",
          "text": [
            "{'a': 1, 'b': 2, 'c': 3, 'add': 4}\n",
            "{}\n"
          ]
        }
      ]
    },
    {
      "cell_type": "markdown",
      "metadata": {
        "id": "WyuM7bMU971a"
      },
      "source": [
        "## **in**\n",
        "- key값의 존재를 확인"
      ]
    },
    {
      "cell_type": "code",
      "metadata": {
        "colab": {
          "base_uri": "https://localhost:8080/"
        },
        "id": "H2VpzUhl9q2K",
        "outputId": "8bd5ddc8-73e2-4557-8d86-073ef2fa0d8f"
      },
      "source": [
        "a = {'a':1, 'b':2, 'c':3}\n",
        "print(2 in a)\n",
        "print('a' in a)\n"
      ],
      "execution_count": 9,
      "outputs": [
        {
          "output_type": "stream",
          "name": "stdout",
          "text": [
            "False\n",
            "True\n"
          ]
        }
      ]
    },
    {
      "cell_type": "markdown",
      "metadata": {
        "id": "hmAmboEm-Zjy"
      },
      "source": [
        "- dict[key]로 접근, 키가 존재하지 않을 경우 에러\n",
        "- get()함수로 접근해서 키가 없는 경우에도 프로그램을 실행"
      ]
    },
    {
      "cell_type": "code",
      "metadata": {
        "colab": {
          "base_uri": "https://localhost:8080/"
        },
        "id": "KeLjS2Rx-LYc",
        "outputId": "d055c215-ae80-4bc7-ccef-aa382c6aa847"
      },
      "source": [
        "a = {'a':1, 'b':2, 'c':3}\n",
        "print(a['a'])\n",
        "print(a.get('d'))"
      ],
      "execution_count": 10,
      "outputs": [
        {
          "output_type": "stream",
          "name": "stdout",
          "text": [
            "1\n",
            "None\n"
          ]
        }
      ]
    },
    {
      "cell_type": "markdown",
      "metadata": {
        "id": "sbWZawb3_Coa"
      },
      "source": [
        "## **모든 key와 값에 접근**\n",
        "\n",
        "- keys() : 키만 반환\n",
        "- values() : 값만 반환\n",
        "- items() : 키와 값의 튜플을 반환"
      ]
    },
    {
      "cell_type": "code",
      "metadata": {
        "colab": {
          "base_uri": "https://localhost:8080/"
        },
        "id": "k2XMdzMP-tRT",
        "outputId": "47acae42-2902-4fc0-c50a-51a7a64970ef"
      },
      "source": [
        "a = {'a':1, 'b':2, 'c':3}\n",
        "print(a)\n",
        "print(list(a.keys()))\n",
        "print(list(a.values()))\n",
        "print(list(a.items()))"
      ],
      "execution_count": 14,
      "outputs": [
        {
          "output_type": "stream",
          "name": "stdout",
          "text": [
            "{'a': 1, 'b': 2, 'c': 3}\n",
            "['a', 'b', 'c']\n",
            "[1, 2, 3]\n",
            "[('a', 1), ('b', 2), ('c', 3)]\n"
          ]
        }
      ]
    },
    {
      "cell_type": "markdown",
      "metadata": {
        "id": "8dqHBVmPGU-H"
      },
      "source": [
        "## **Set**\n",
        "- dictionary에서 key만 활용한 데이터구조\n",
        "- 중복이 허용되지 않는 구조"
      ]
    },
    {
      "cell_type": "code",
      "metadata": {
        "colab": {
          "base_uri": "https://localhost:8080/"
        },
        "id": "9wcOBKef_YfS",
        "outputId": "b0c2365d-9c53-473c-ee8b-cebcc903af3c"
      },
      "source": [
        "a = {23,16,8,72,3,23,2,3,23}\n",
        "print(a)"
      ],
      "execution_count": 16,
      "outputs": [
        {
          "output_type": "stream",
          "name": "stdout",
          "text": [
            "{2, 3, 8, 72, 16, 23}\n"
          ]
        }
      ]
    },
    {
      "cell_type": "code",
      "metadata": {
        "colab": {
          "base_uri": "https://localhost:8080/"
        },
        "id": "aLtNTfdyGha_",
        "outputId": "bf7b3f6a-6670-40f6-e71d-97629ebad1ff"
      },
      "source": [
        "#리스트를 Set으로 변경\n",
        "a = {23,16,8,72,3,23,2,3,23}\n",
        "print(a)\n",
        "\n",
        "b = set(a)\n",
        "print(b)"
      ],
      "execution_count": 17,
      "outputs": [
        {
          "output_type": "stream",
          "name": "stdout",
          "text": [
            "{2, 3, 8, 72, 16, 23}\n",
            "{16, 2, 3, 23, 8, 72}\n"
          ]
        }
      ]
    },
    {
      "cell_type": "code",
      "metadata": {
        "colab": {
          "base_uri": "https://localhost:8080/"
        },
        "id": "hHfJ2rOYG7nO",
        "outputId": "80e912c6-2c74-4fbb-e8dd-2865896b3532"
      },
      "source": [
        "a = {1,2,3}\n",
        "b = {2,3,4}\n",
        "\n",
        "c = a.union(b) #합집합\n",
        "print(c)\n",
        "d = a.intersection(b) #교집합\n",
        "print(d)\n",
        "e = a.difference(b) #A-B 차집합\n",
        "print(e)"
      ],
      "execution_count": 19,
      "outputs": [
        {
          "output_type": "stream",
          "name": "stdout",
          "text": [
            "{1, 2, 3, 4}\n",
            "{2, 3}\n",
            "{1}\n"
          ]
        }
      ]
    },
    {
      "cell_type": "code",
      "metadata": {
        "id": "gtaqM0yMH7o9"
      },
      "source": [
        ""
      ],
      "execution_count": null,
      "outputs": []
    }
  ]
}