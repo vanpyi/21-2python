{
  "nbformat": 4,
  "nbformat_minor": 0,
  "metadata": {
    "colab": {
      "name": "Untitled0.ipynb",
      "provenance": [],
      "authorship_tag": "ABX9TyPhc0IDZcRT4ukLoEb+bfA9",
      "include_colab_link": true
    },
    "kernelspec": {
      "name": "python3",
      "display_name": "Python 3"
    },
    "language_info": {
      "name": "python"
    }
  },
  "cells": [
    {
      "cell_type": "markdown",
      "metadata": {
        "id": "view-in-github",
        "colab_type": "text"
      },
      "source": [
        "<a href=\"https://colab.research.google.com/github/vanpyi/21-2python/blob/main/210823.ipynb\" target=\"_parent\"><img src=\"https://colab.research.google.com/assets/colab-badge.svg\" alt=\"Open In Colab\"/></a>"
      ]
    },
    {
      "cell_type": "markdown",
      "metadata": {
        "id": "eHRG-jvmbeWE"
      },
      "source": [
        "1. python 언어에서 변수의 의미를 이해하기\n",
        "2. 기본 데이터 타입을 선언하기 (int. float. str. bool)"
      ]
    },
    {
      "cell_type": "markdown",
      "metadata": {
        "id": "l-PsZZubda0N"
      },
      "source": [
        "### 대입연산자\n",
        "\n",
        "* 대입의 경우, 오른쪽의 수식이나 값을 계산한 뒤 왼쪽 변수에 값을 대입\n",
        "* 변수는 해당 값을 가지게 된다"
      ]
    },
    {
      "cell_type": "code",
      "metadata": {
        "id": "lqAyDHi1dvSy"
      },
      "source": [
        "a = 10 #int\n",
        "b = 11.4 #float"
      ],
      "execution_count": 5,
      "outputs": []
    },
    {
      "cell_type": "code",
      "metadata": {
        "colab": {
          "base_uri": "https://localhost:8080/"
        },
        "id": "6hiKcyU5d4bS",
        "outputId": "bdc2438c-8600-4d4a-bbc5-837bfd532b97"
      },
      "source": [
        "print(a)"
      ],
      "execution_count": 6,
      "outputs": [
        {
          "output_type": "stream",
          "text": [
            "10\n"
          ],
          "name": "stdout"
        }
      ]
    },
    {
      "cell_type": "markdown",
      "metadata": {
        "id": "IOxExIIrfVHk"
      },
      "source": [
        "## 주석(Comment)\n",
        "* 코드에서 #으로 시작하는 뒷부분은 실행 안 함\n",
        "* python이 실행할 때 #만나면 무시\n",
        "* 개발자(사람)이 보기 위한 용도로 사용 "
      ]
    },
    {
      "cell_type": "code",
      "metadata": {
        "id": "3htWPnvofWUq"
      },
      "source": [
        "#this line is important\n",
        "#so don't delete those lines\n",
        "\n",
        "math = 50\n",
        "english = 50"
      ],
      "execution_count": 17,
      "outputs": []
    },
    {
      "cell_type": "markdown",
      "metadata": {
        "id": "-lhQ_zXVgUSS"
      },
      "source": [
        "# **print 함수**\n",
        "* 함수란 특정 기능을 반복적으로 호출하여 사용 가능한 코드 블럭\n",
        "* 해당 변수 값이 출력\n",
        "* ,로 여러 변수를 나열하면 한 줄에 출력\n",
        "* 기본적으로는 한 칸 띄어쓰기 후 출력"
      ]
    },
    {
      "cell_type": "code",
      "metadata": {
        "colab": {
          "base_uri": "https://localhost:8080/"
        },
        "id": "5SGWcpoYgnrk",
        "outputId": "a93a41d1-9ca4-4be2-cb28-6bd28ce7a936"
      },
      "source": [
        "print(a, b)"
      ],
      "execution_count": 18,
      "outputs": [
        {
          "output_type": "stream",
          "text": [
            "10 11.4\n"
          ],
          "name": "stdout"
        }
      ]
    },
    {
      "cell_type": "code",
      "metadata": {
        "colab": {
          "base_uri": "https://localhost:8080/"
        },
        "id": "K7aTHQKIhKcj",
        "outputId": "b40f45f7-1f50-4029-e617-c4a336927a9d"
      },
      "source": [
        "print(math, english, 20, 'ㅎㅂ')"
      ],
      "execution_count": 19,
      "outputs": [
        {
          "output_type": "stream",
          "text": [
            "50 50 20 ㅎㅂ\n"
          ],
          "name": "stdout"
        }
      ]
    },
    {
      "cell_type": "markdown",
      "metadata": {
        "id": "ptaqECPciB2C"
      },
      "source": [
        "## **변수 값 확인 방법**\n",
        "1. print() 함수 사용\n",
        "2. 변수 값을 코드와 마지막에 위치 시킨 후 실행\n",
        "* 이 경우 output으로 변수의 값이 출력된다"
      ]
    },
    {
      "cell_type": "code",
      "metadata": {
        "colab": {
          "base_uri": "https://localhost:8080/"
        },
        "id": "heLL-xL0iOkp",
        "outputId": "a1596172-3fed-4529-b88d-5d6551e6a646"
      },
      "source": [
        "math\n",
        "english"
      ],
      "execution_count": 21,
      "outputs": [
        {
          "output_type": "execute_result",
          "data": {
            "text/plain": [
              "50"
            ]
          },
          "metadata": {},
          "execution_count": 21
        }
      ]
    },
    {
      "cell_type": "markdown",
      "metadata": {
        "id": "NHXDO3XAj6l6"
      },
      "source": [
        "## **변수 이름 규칙**\n",
        "1. 영문 대소문자, _, 숫자로 구성 가능\n",
        "* 숫자로 시작은 안 된다!\n",
        "* 일반적으로 변수를 표현할 때 정확하고 간결한 이름을 사용하여 쉽게 이해하도록 설정한다\n",
        "* 예) a = 900 경우보다, hy_student_num = 900 으로 명시하는 것이 이해가 빠르다"
      ]
    },
    {
      "cell_type": "code",
      "metadata": {
        "id": "u0fsLsNUkTsz"
      },
      "source": [
        "abAB = 100\n",
        "#4_num = 10 #숫자로 시작하여 실행 안 됨\n",
        "ABab =200\n",
        "right = 800"
      ],
      "execution_count": 23,
      "outputs": []
    },
    {
      "cell_type": "code",
      "metadata": {
        "colab": {
          "base_uri": "https://localhost:8080/",
          "height": 136
        },
        "id": "73ZeLj8SlAJT",
        "outputId": "10d088ed-3dda-4f58-a31c-f71a53102088"
      },
      "source": [
        "## **예약어(키워드)**\n",
        "* python에서 미리 선점하여 사용중인 키워드\n",
        "* 변수, 함수, 클래스 등 사용자 정의 이름으로 사용할 수 없음"
      ],
      "execution_count": 27,
      "outputs": [
        {
          "output_type": "error",
          "ename": "SyntaxError",
          "evalue": "ignored",
          "traceback": [
            "\u001b[0;36m  File \u001b[0;32m\"<ipython-input-27-fff52170a581>\"\u001b[0;36m, line \u001b[0;32m2\u001b[0m\n\u001b[0;31m    * python에서 미리 선점하여 사용중인 키워드\u001b[0m\n\u001b[0m                ^\u001b[0m\n\u001b[0;31mSyntaxError\u001b[0m\u001b[0;31m:\u001b[0m invalid syntax\n"
          ]
        }
      ]
    },
    {
      "cell_type": "code",
      "metadata": {
        "id": "NCwxbMv-mHyE"
      },
      "source": [
        ""
      ],
      "execution_count": null,
      "outputs": []
    }
  ]
}