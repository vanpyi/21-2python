{
  "nbformat": 4,
  "nbformat_minor": 0,
  "metadata": {
    "colab": {
      "name": "Untitled0.ipynb",
      "provenance": [],
      "authorship_tag": "ABX9TyOfqyQYeKz8f8zUc6ROQiGi",
      "include_colab_link": true
    },
    "kernelspec": {
      "name": "python3",
      "display_name": "Python 3"
    },
    "language_info": {
      "name": "python"
    }
  },
  "cells": [
    {
      "cell_type": "markdown",
      "metadata": {
        "id": "view-in-github",
        "colab_type": "text"
      },
      "source": [
        "<a href=\"https://colab.research.google.com/github/vanpyi/21-2python/blob/main/Ch2_%EB%AC%B8%EC%9E%90%EC%97%B4.ipynb\" target=\"_parent\"><img src=\"https://colab.research.google.com/assets/colab-badge.svg\" alt=\"Open In Colab\"/></a>"
      ]
    },
    {
      "cell_type": "markdown",
      "metadata": {
        "id": "v7rbNjD99Fwj"
      },
      "source": [
        "## 학습 목표\n",
        " 1. 문자열(str) 타입 이해하기"
      ]
    },
    {
      "cell_type": "markdown",
      "metadata": {
        "id": "qbznfL8r98Ij"
      },
      "source": [
        "###***문자열(str)**\n",
        "- 여러 개의 문자를 순서대로 나열한 것\n",
        "- 문자열은 '(작은따옴표) 혹은 \"(큰따옴표) 사이에 문자를 넣어서 생성\n",
        "- 문자열 자체에 ',\" 있을 경우에는 그 반대의 기호로 생성"
      ]
    },
    {
      "cell_type": "code",
      "metadata": {
        "colab": {
          "base_uri": "https://localhost:8080/"
        },
        "id": "VBTVhbFc-MK5",
        "outputId": "f01ae126-ecc6-412b-d25d-232fcad0f3ed"
      },
      "source": [
        "a = \"hello world!\"\n",
        "b = 'hello world!'\n",
        "\n",
        "c = '''hello world'''\n",
        "\n",
        "print(a)\n",
        "print(b)"
      ],
      "execution_count": 2,
      "outputs": [
        {
          "output_type": "stream",
          "text": [
            "hello world!\n",
            "hello world!\n"
          ],
          "name": "stdout"
        }
      ]
    },
    {
      "cell_type": "markdown",
      "metadata": {
        "id": "mHLRb1nuEeCE"
      },
      "source": [
        "### 학습 목표\n",
        "1. 문자열(str) 타입 이해하기"
      ]
    },
    {
      "cell_type": "markdown",
      "metadata": {
        "id": "ntS19E94DV8K"
      },
      "source": [
        "## 이스케이프(escape) 문자\n",
        "* 탈출 효과를 주기 위해 문자열 내부에 넣는다\n",
        "* \\n : 엔터(다음줄)\n",
        "* \\t : tap"
      ]
    },
    {
      "cell_type": "code",
      "metadata": {
        "colab": {
          "base_uri": "https://localhost:8080/"
        },
        "id": "A9-UvDZh-3oD",
        "outputId": "476e5a5d-7712-47d6-8368-c143a3a8606b"
      },
      "source": [
        "print('hello\\o\\nworld')\n",
        "print('이렇게 엔터를 \\n 치면 됩니다')\n",
        "print('2학기 회장:\\t ㅇㅇㅇ')\n",
        "print('1학기 회장:\\t ㅇㅇㅇ')"
      ],
      "execution_count": 3,
      "outputs": [
        {
          "output_type": "stream",
          "text": [
            "hello\\o\n",
            "world\n",
            "이렇게 엔터를 \n",
            " 치면 됩니다\n",
            "2학기 회장:\t ㅇㅇㅇ\n",
            "1학기 회장:\t ㅇㅇㅇ\n"
          ],
          "name": "stdout"
        }
      ]
    },
    {
      "cell_type": "code",
      "metadata": {
        "id": "3jACX4-ZDUNL"
      },
      "source": [
        ""
      ],
      "execution_count": null,
      "outputs": []
    }
  ]
}