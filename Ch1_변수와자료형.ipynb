{
  "nbformat": 4,
  "nbformat_minor": 0,
  "metadata": {
    "colab": {
      "name": "Untitled0.ipynb",
      "provenance": [],
      "authorship_tag": "ABX9TyPaxo8YqzgnDX/KldKy+irL",
      "include_colab_link": true
    },
    "kernelspec": {
      "name": "python3",
      "display_name": "Python 3"
    },
    "language_info": {
      "name": "python"
    }
  },
  "cells": [
    {
      "cell_type": "markdown",
      "metadata": {
        "id": "view-in-github",
        "colab_type": "text"
      },
      "source": [
        "<a href=\"https://colab.research.google.com/github/vanpyi/21-2python/blob/main/Ch1_%EB%B3%80%EC%88%98%EC%99%80%EC%9E%90%EB%A3%8C%ED%98%95.ipynb\" target=\"_parent\"><img src=\"https://colab.research.google.com/assets/colab-badge.svg\" alt=\"Open In Colab\"/></a>"
      ]
    },
    {
      "cell_type": "markdown",
      "metadata": {
        "id": "eHRG-jvmbeWE"
      },
      "source": [
        "1. python 언어에서 변수의 의미를 이해하기\n",
        "2. 기본 데이터 타입을 선언하기 (int. float. str. bool)"
      ]
    },
    {
      "cell_type": "markdown",
      "metadata": {
        "id": "l-PsZZubda0N"
      },
      "source": [
        "### 대입연산자\n",
        "\n",
        "* 대입의 경우, 오른쪽의 수식이나 값을 계산한 뒤 왼쪽 변수에 값을 대입\n",
        "* 변수는 해당 값을 가지게 된다"
      ]
    },
    {
      "cell_type": "code",
      "metadata": {
        "id": "lqAyDHi1dvSy"
      },
      "source": [
        "a = 10 #int\n",
        "b = 11.4 #float"
      ],
      "execution_count": null,
      "outputs": []
    },
    {
      "cell_type": "code",
      "metadata": {
        "colab": {
          "base_uri": "https://localhost:8080/"
        },
        "id": "6hiKcyU5d4bS",
        "outputId": "bdc2438c-8600-4d4a-bbc5-837bfd532b97"
      },
      "source": [
        "print(a)"
      ],
      "execution_count": null,
      "outputs": [
        {
          "output_type": "stream",
          "text": [
            "10\n"
          ],
          "name": "stdout"
        }
      ]
    },
    {
      "cell_type": "markdown",
      "metadata": {
        "id": "IOxExIIrfVHk"
      },
      "source": [
        "## 주석(Comment)\n",
        "* 코드에서 #으로 시작하는 뒷부분은 실행 안 함\n",
        "* python이 실행할 때 #만나면 무시\n",
        "* 개발자(사람)이 보기 위한 용도로 사용 "
      ]
    },
    {
      "cell_type": "code",
      "metadata": {
        "id": "3htWPnvofWUq"
      },
      "source": [
        "#this line is important\n",
        "#so don't delete those lines\n",
        "\n",
        "math = 50\n",
        "english = 50"
      ],
      "execution_count": null,
      "outputs": []
    },
    {
      "cell_type": "markdown",
      "metadata": {
        "id": "-lhQ_zXVgUSS"
      },
      "source": [
        "# **print 함수**\n",
        "* 함수란 특정 기능을 반복적으로 호출하여 사용 가능한 코드 블럭\n",
        "* 해당 변수 값이 출력\n",
        "* ,로 여러 변수를 나열하면 한 줄에 출력\n",
        "* 기본적으로는 한 칸 띄어쓰기 후 출력"
      ]
    },
    {
      "cell_type": "code",
      "metadata": {
        "colab": {
          "base_uri": "https://localhost:8080/"
        },
        "id": "5SGWcpoYgnrk",
        "outputId": "a93a41d1-9ca4-4be2-cb28-6bd28ce7a936"
      },
      "source": [
        "print(a, b)"
      ],
      "execution_count": null,
      "outputs": [
        {
          "output_type": "stream",
          "text": [
            "10 11.4\n"
          ],
          "name": "stdout"
        }
      ]
    },
    {
      "cell_type": "code",
      "metadata": {
        "colab": {
          "base_uri": "https://localhost:8080/"
        },
        "id": "K7aTHQKIhKcj",
        "outputId": "b40f45f7-1f50-4029-e617-c4a336927a9d"
      },
      "source": [
        "print(math, english, 20, 'ㅎㅂ')"
      ],
      "execution_count": null,
      "outputs": [
        {
          "output_type": "stream",
          "text": [
            "50 50 20 ㅎㅂ\n"
          ],
          "name": "stdout"
        }
      ]
    },
    {
      "cell_type": "markdown",
      "metadata": {
        "id": "ptaqECPciB2C"
      },
      "source": [
        "## **변수 값 확인 방법**\n",
        "1. print() 함수 사용\n",
        "2. 변수 값을 코드와 마지막에 위치 시킨 후 실행\n",
        "* 이 경우 output으로 변수의 값이 출력된다"
      ]
    },
    {
      "cell_type": "code",
      "metadata": {
        "colab": {
          "base_uri": "https://localhost:8080/"
        },
        "id": "heLL-xL0iOkp",
        "outputId": "a1596172-3fed-4529-b88d-5d6551e6a646"
      },
      "source": [
        "math\n",
        "english"
      ],
      "execution_count": null,
      "outputs": [
        {
          "output_type": "execute_result",
          "data": {
            "text/plain": [
              "50"
            ]
          },
          "metadata": {},
          "execution_count": 21
        }
      ]
    },
    {
      "cell_type": "markdown",
      "metadata": {
        "id": "NHXDO3XAj6l6"
      },
      "source": [
        "## **변수 이름 규칙**\n",
        "1. 영문 대소문자, _, 숫자로 구성 가능\n",
        "* 숫자로 시작은 안 된다!\n",
        "* 일반적으로 변수를 표현할 때 정확하고 간결한 이름을 사용하여 쉽게 이해하도록 설정한다\n",
        "* 예) a = 900 경우보다, hy_student_num = 900 으로 명시하는 것이 이해가 빠르다"
      ]
    },
    {
      "cell_type": "code",
      "metadata": {
        "id": "u0fsLsNUkTsz"
      },
      "source": [
        "abAB = 100\n",
        "#4_num = 10 #숫자로 시작하여 실행 안 됨\n",
        "ABab =200\n",
        "right = 800"
      ],
      "execution_count": null,
      "outputs": []
    },
    {
      "cell_type": "markdown",
      "metadata": {
        "id": "cWY9YDYroGJH"
      },
      "source": [
        "## **기본 데이터 타입**\n",
        "* 정수(int)\n",
        "* 실수(float)\n",
        "* 문자열(str)\n",
        "* 불리언(boolean)"
      ]
    },
    {
      "cell_type": "code",
      "metadata": {
        "colab": {
          "base_uri": "https://localhost:8080/"
        },
        "id": "n--EseffoHiP",
        "outputId": "74ebf29f-c80e-4fab-f04f-14c8a12b4d2a"
      },
      "source": [
        "a = 10 #정수형(int)\n",
        "b = 15.6 #실수형(float)\n",
        "c = \"2학기 회장\" #문자형\n",
        "d = a > b  #불리언(boolean)\n",
        "\n",
        "print( a, b, c, d )"
      ],
      "execution_count": 2,
      "outputs": [
        {
          "output_type": "stream",
          "text": [
            "10 15.6 2학기 회장 False\n"
          ],
          "name": "stdout"
        }
      ]
    },
    {
      "cell_type": "markdown",
      "metadata": {
        "id": "mOzRYf0NpMj3"
      },
      "source": [
        "## **type() 함수\n",
        "해당 변수, 값의 타입을 알고자할 때 사용하는 함수"
      ]
    },
    {
      "cell_type": "code",
      "metadata": {
        "colab": {
          "base_uri": "https://localhost:8080/"
        },
        "id": "8ldHS12wpWZ1",
        "outputId": "d08f956c-a537-4c2b-fd15-9b452357a926"
      },
      "source": [
        "print(type(a), type(b), type(c), type(d))"
      ],
      "execution_count": 3,
      "outputs": [
        {
          "output_type": "stream",
          "text": [
            "<class 'int'> <class 'float'> <class 'str'> <class 'bool'>\n"
          ],
          "name": "stdout"
        }
      ]
    },
    {
      "cell_type": "markdown",
      "metadata": {
        "id": "lBLA_qywpiHi"
      },
      "source": [
        "###**타입 none**\n",
        "\n",
        "* 아무런 값을 갖지 않을 때 사용\n",
        "* 일반적으로 변수가 초기값을 갖지 않게 하여 해당 변수를 행성할 때 사용\n",
        "* 다른 언어에서는 null과 같은 의미로 사용"
      ]
    },
    {
      "cell_type": "code",
      "metadata": {
        "colab": {
          "base_uri": "https://localhost:8080/"
        },
        "id": "485ptQJXqmAX",
        "outputId": "b9876690-4923-4ef2-8c81-a9411cc7cb6a"
      },
      "source": [
        "n = None\n",
        "print(n)"
      ],
      "execution_count": 4,
      "outputs": [
        {
          "output_type": "stream",
          "text": [
            "None\n"
          ],
          "name": "stdout"
        }
      ]
    },
    {
      "cell_type": "markdown",
      "metadata": {
        "id": "ht-4iwbRu7NA"
      },
      "source": [
        "## **비교 연산자**\n",
        "- 프로그래밍에서는 '=' 이게 아니라, ==를 사용\n",
        " - 예) 2학기 회장 == \"ㅇㅇ\" #참\n",
        "- 작다, 크다 (>,<)\n",
        "- 작거나 같다, 크거나 같다(=>,<=)\n",
        "- 같다 (==)\n",
        "- 같지 않다 (!=)\n",
        " - 예) 2학기 회장 1= ㅇㅇ #거짓\n",
        "- 결론적으로 비교 연산자 결과는 bool 타입으로 출력\n"
      ]
    },
    {
      "cell_type": "code",
      "metadata": {
        "colab": {
          "base_uri": "https://localhost:8080/"
        },
        "id": "nurkJRmqvWt0",
        "outputId": "6f5435ea-e262-4450-91d9-de4d761c0985"
      },
      "source": [
        "ss = 76100\n",
        "nv = 430000\n",
        "\n",
        "print(ss>nv)\n",
        "print(nv>ss)\n",
        "\n",
        "print(nv<=ss)\n",
        "print(nv>=ss)\n",
        "\n",
        "print(nv==ss)\n",
        "print(ss!=nv)"
      ],
      "execution_count": 7,
      "outputs": [
        {
          "output_type": "stream",
          "text": [
            "False\n",
            "True\n",
            "False\n",
            "True\n",
            "False\n",
            "True\n"
          ],
          "name": "stdout"
        }
      ]
    },
    {
      "cell_type": "code",
      "metadata": {
        "colab": {
          "base_uri": "https://localhost:8080/"
        },
        "id": "HPiqBLlfw3sq",
        "outputId": "a774046a-f322-46eb-99e9-91cc6a61dcc2"
      },
      "source": [
        "print(ss + nv)\n",
        "print(ss - nv)\n",
        "print(ss * nv)\n",
        "print(ss / nv)\n",
        "print(ss % nv)\n",
        "\n",
        "a = 3\n",
        "b = 2\n",
        "\n",
        "print ( a ** b)"
      ],
      "execution_count": 8,
      "outputs": [
        {
          "output_type": "stream",
          "text": [
            "506100\n",
            "-353900\n",
            "32723000000\n",
            "0.1769767441860465\n",
            "76100\n",
            "9\n"
          ],
          "name": "stdout"
        }
      ]
    },
    {
      "cell_type": "markdown",
      "metadata": {
        "id": "ovdvvuwmzebB"
      },
      "source": [
        "## 연산자 우선 순위\n",
        "\n",
        "* 기본적으로 수학의 연산자와 동일\n",
        "* 먼저 연산을 위해서 괄호()를 사용"
      ]
    },
    {
      "cell_type": "code",
      "metadata": {
        "colab": {
          "base_uri": "https://localhost:8080/"
        },
        "id": "z0NC2o2hy3Uy",
        "outputId": "c0eee6a2-5931-4eb7-c9a6-b06a9b45117b"
      },
      "source": [
        "a= 5\n",
        "b =4\n",
        "print(a+b*50)\n",
        "print((a+b)*50)"
      ],
      "execution_count": 9,
      "outputs": [
        {
          "output_type": "stream",
          "text": [
            "205\n",
            "450\n"
          ],
          "name": "stdout"
        }
      ]
    },
    {
      "cell_type": "code",
      "metadata": {
        "id": "3gdpHgpzz32i"
      },
      "source": [
        ""
      ],
      "execution_count": null,
      "outputs": []
    }
  ]
}